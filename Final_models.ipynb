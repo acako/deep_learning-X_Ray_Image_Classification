{
 "cells": [
  {
   "cell_type": "markdown",
   "id": "directed-azerbaijan",
   "metadata": {},
   "source": [
    "# Final Models"
   ]
  },
  {
   "cell_type": "markdown",
   "id": "norman-zealand",
   "metadata": {},
   "source": [
    "## Loading and reshaping the data"
   ]
  },
  {
   "cell_type": "code",
   "execution_count": 1,
   "id": "wanted-operator",
   "metadata": {},
   "outputs": [],
   "source": [
    "import tensorflow as tf\n",
    "import numpy as np\n",
    "from itertools import cycle\n",
    "\n",
    "from sklearn import svm, datasets\n",
    "from sklearn.metrics import roc_curve, auc\n",
    "from sklearn.model_selection import train_test_split\n",
    "from sklearn.preprocessing import label_binarize\n",
    "from sklearn.multiclass import OneVsRestClassifier\n",
    "from scipy import interp\n",
    "from sklearn.metrics import roc_auc_score\n",
    "\n",
    "import pandas as pd\n",
    "import tensorflow.keras as keras\n",
    "from tensorflow.keras.models import Sequential\n",
    "\n"
   ]
  },
  {
   "cell_type": "code",
   "execution_count": 2,
   "id": "expired-camcorder",
   "metadata": {},
   "outputs": [],
   "source": [
    "#load train data\n",
    "x_train = pd.read_csv('x_train_full.csv')\n",
    "y_train = pd.read_csv('y_train_full.csv')"
   ]
  },
  {
   "cell_type": "code",
   "execution_count": 3,
   "id": "dangerous-offense",
   "metadata": {},
   "outputs": [],
   "source": [
    "#remove unecessary columns\n",
    "x_train = x_train.iloc[:, 1:16385]\n",
    "y_train = y_train.iloc[:, 1:2]"
   ]
  },
  {
   "cell_type": "code",
   "execution_count": 4,
   "id": "tribal-crisis",
   "metadata": {},
   "outputs": [],
   "source": [
    "#load test data\n",
    "x_test = pd.read_csv('x_test_full.csv')\n",
    "y_test = pd.read_csv('y_test_full.csv')"
   ]
  },
  {
   "cell_type": "code",
   "execution_count": 5,
   "id": "timely-gospel",
   "metadata": {},
   "outputs": [],
   "source": [
    "#remove unecessary columns\n",
    "x_test = x_test.iloc[:, 1:16385]\n",
    "y_test = y_test.iloc[:, 1:2]"
   ]
  },
  {
   "cell_type": "code",
   "execution_count": 6,
   "id": "accepted-surgeon",
   "metadata": {},
   "outputs": [],
   "source": [
    "#reshape x-train and x-test\n",
    "x_train = x_train.values.reshape(5216,128,128,1)\n",
    "x_test = x_test.values.reshape(624, 128, 128, 1)"
   ]
  },
  {
   "cell_type": "markdown",
   "id": "biblical-looking",
   "metadata": {},
   "source": [
    "## Data Augmentation"
   ]
  },
  {
   "cell_type": "code",
   "execution_count": 7,
   "id": "hollow-radiation",
   "metadata": {
    "scrolled": true
   },
   "outputs": [
    {
     "name": "stderr",
     "output_type": "stream",
     "text": [
      "Using TensorFlow backend.\n"
     ]
    }
   ],
   "source": [
    "#data augmentation\n",
    "\n",
    "from keras.preprocessing.image import ImageDataGenerator\n",
    "\n",
    "datagen = ImageDataGenerator(\n",
    "        featurewise_center=False,  # set input mean to 0 over the dataset\n",
    "        samplewise_center=False,  # set each sample mean to 0\n",
    "        featurewise_std_normalization=False,  # divide inputs by std of the dataset\n",
    "        samplewise_std_normalization=False,  # divide each input by its std\n",
    "        zca_whitening=False,  # apply ZCA whitening\n",
    "        rotation_range = 30,  # randomly rotate images in the range (degrees, 0 to 180)\n",
    "        zoom_range = 0.2, # Randomly zoom image \n",
    "        width_shift_range=0.1,  # randomly shift images horizontally (fraction of total width)\n",
    "        height_shift_range=0.1,  # randomly shift images vertically (fraction of total height)\n",
    "        horizontal_flip = True,  # randomly flip images\n",
    "        vertical_flip=False)  # randomly flip images\n",
    "\n",
    "datagen.fit(x_train)"
   ]
  },
  {
   "cell_type": "markdown",
   "id": "spare-picking",
   "metadata": {},
   "source": [
    "## Modelling"
   ]
  },
  {
   "cell_type": "markdown",
   "id": "affiliated-board",
   "metadata": {},
   "source": [
    "### Two-Layer Model"
   ]
  },
  {
   "cell_type": "code",
   "execution_count": 8,
   "id": "minimal-locator",
   "metadata": {},
   "outputs": [],
   "source": [
    "#load simple Neural Network -Model 1\n",
    "\n",
    "model_one = tf.keras.models.Sequential([tf.keras.layers.Flatten(input_shape = (128,128,1)), \n",
    "                                    tf.keras.layers.Dense(128, activation=tf.nn.relu), \n",
    "                                    tf.keras.layers.Dense(1, activation=tf.nn.sigmoid)])"
   ]
  },
  {
   "cell_type": "code",
   "execution_count": 9,
   "id": "personal-argument",
   "metadata": {},
   "outputs": [],
   "source": [
    "#compile model\n",
    "model_one.compile(optimizer = tf.optimizers.Adam(),\n",
    "              loss = 'binary_crossentropy',\n",
    "              metrics=['accuracy'])"
   ]
  },
  {
   "cell_type": "code",
   "execution_count": 10,
   "id": "female-maintenance",
   "metadata": {},
   "outputs": [
    {
     "name": "stdout",
     "output_type": "stream",
     "text": [
      "Epoch 1/50\n",
      "8/8 [==============================] - 2s 146ms/step - loss: 5.6337 - accuracy: 0.5540 - val_loss: 0.8794 - val_accuracy: 0.6250\n",
      "Epoch 2/50\n",
      "8/8 [==============================] - 1s 86ms/step - loss: 1.3272 - accuracy: 0.7200 - val_loss: 0.7062 - val_accuracy: 0.6875\n",
      "Epoch 3/50\n",
      "8/8 [==============================] - 1s 94ms/step - loss: 0.5570 - accuracy: 0.7822 - val_loss: 0.9721 - val_accuracy: 0.6522\n",
      "Epoch 4/50\n",
      "8/8 [==============================] - 1s 90ms/step - loss: 0.4003 - accuracy: 0.8278 - val_loss: 0.7974 - val_accuracy: 0.6827\n",
      "Epoch 5/50\n",
      "8/8 [==============================] - 1s 105ms/step - loss: 0.3039 - accuracy: 0.8684 - val_loss: 0.7000 - val_accuracy: 0.7131\n",
      "Epoch 6/50\n",
      "8/8 [==============================] - 1s 103ms/step - loss: 0.2492 - accuracy: 0.8921 - val_loss: 0.5023 - val_accuracy: 0.7708\n",
      "Epoch 7/50\n",
      "8/8 [==============================] - 1s 93ms/step - loss: 0.2217 - accuracy: 0.9118 - val_loss: 0.4675 - val_accuracy: 0.7804\n",
      "Epoch 8/50\n",
      "8/8 [==============================] - 1s 89ms/step - loss: 0.1808 - accuracy: 0.9318 - val_loss: 0.4044 - val_accuracy: 0.8045\n",
      "Epoch 9/50\n",
      "8/8 [==============================] - 1s 81ms/step - loss: 0.1788 - accuracy: 0.9344 - val_loss: 0.4353 - val_accuracy: 0.7853\n",
      "Epoch 10/50\n",
      "8/8 [==============================] - 1s 87ms/step - loss: 0.1674 - accuracy: 0.9419 - val_loss: 0.4235 - val_accuracy: 0.7917\n",
      "Epoch 11/50\n",
      "8/8 [==============================] - 1s 99ms/step - loss: 0.1599 - accuracy: 0.9448 - val_loss: 0.4179 - val_accuracy: 0.7933\n",
      "Epoch 12/50\n",
      "8/8 [==============================] - 1s 85ms/step - loss: 0.1587 - accuracy: 0.9465 - val_loss: 0.4923 - val_accuracy: 0.7660\n",
      "Epoch 13/50\n",
      "8/8 [==============================] - 1s 99ms/step - loss: 0.1503 - accuracy: 0.9480 - val_loss: 0.5613 - val_accuracy: 0.7452\n",
      "Epoch 14/50\n",
      "8/8 [==============================] - 1s 101ms/step - loss: 0.1491 - accuracy: 0.9480 - val_loss: 0.5028 - val_accuracy: 0.7628\n",
      "Epoch 15/50\n",
      "8/8 [==============================] - 1s 98ms/step - loss: 0.1381 - accuracy: 0.9535 - val_loss: 0.5222 - val_accuracy: 0.7596\n",
      "Epoch 16/50\n",
      "8/8 [==============================] - 1s 97ms/step - loss: 0.1362 - accuracy: 0.9525 - val_loss: 0.5262 - val_accuracy: 0.7628\n",
      "Epoch 17/50\n",
      "8/8 [==============================] - 1s 79ms/step - loss: 0.1353 - accuracy: 0.9520 - val_loss: 0.5643 - val_accuracy: 0.7548\n",
      "Epoch 18/50\n",
      "8/8 [==============================] - 1s 99ms/step - loss: 0.1368 - accuracy: 0.9548 - val_loss: 0.4723 - val_accuracy: 0.7837\n",
      "Epoch 19/50\n",
      "8/8 [==============================] - 1s 80ms/step - loss: 0.1333 - accuracy: 0.9533 - val_loss: 0.5915 - val_accuracy: 0.7516\n",
      "Epoch 20/50\n",
      "8/8 [==============================] - 1s 77ms/step - loss: 0.1300 - accuracy: 0.9522 - val_loss: 0.5791 - val_accuracy: 0.7532\n",
      "Epoch 21/50\n",
      "8/8 [==============================] - 1s 78ms/step - loss: 0.1232 - accuracy: 0.9583 - val_loss: 0.5322 - val_accuracy: 0.7692\n",
      "Epoch 22/50\n",
      "8/8 [==============================] - 1s 77ms/step - loss: 0.1267 - accuracy: 0.9557 - val_loss: 0.5552 - val_accuracy: 0.7676\n",
      "Epoch 23/50\n",
      "8/8 [==============================] - 1s 83ms/step - loss: 0.1271 - accuracy: 0.9555 - val_loss: 0.6032 - val_accuracy: 0.7532\n",
      "Epoch 24/50\n",
      "8/8 [==============================] - 1s 102ms/step - loss: 0.1230 - accuracy: 0.9581 - val_loss: 0.5062 - val_accuracy: 0.7804\n",
      "Epoch 25/50\n",
      "8/8 [==============================] - 1s 83ms/step - loss: 0.1279 - accuracy: 0.9541 - val_loss: 0.6401 - val_accuracy: 0.7436\n",
      "Epoch 26/50\n",
      "8/8 [==============================] - 1s 97ms/step - loss: 0.1165 - accuracy: 0.9599 - val_loss: 0.6353 - val_accuracy: 0.7468\n",
      "Epoch 27/50\n",
      "8/8 [==============================] - 1s 109ms/step - loss: 0.1144 - accuracy: 0.9599 - val_loss: 0.6989 - val_accuracy: 0.7324\n",
      "Epoch 28/50\n",
      "8/8 [==============================] - 1s 107ms/step - loss: 0.1143 - accuracy: 0.9608 - val_loss: 0.5935 - val_accuracy: 0.7628\n",
      "Epoch 29/50\n",
      "8/8 [==============================] - 1s 101ms/step - loss: 0.1121 - accuracy: 0.9592 - val_loss: 0.6987 - val_accuracy: 0.7372\n",
      "Epoch 30/50\n",
      "8/8 [==============================] - 1s 82ms/step - loss: 0.1131 - accuracy: 0.9596 - val_loss: 0.5621 - val_accuracy: 0.7676\n",
      "Epoch 31/50\n",
      "8/8 [==============================] - 1s 82ms/step - loss: 0.1171 - accuracy: 0.9584 - val_loss: 0.6859 - val_accuracy: 0.7420\n",
      "Epoch 32/50\n",
      "8/8 [==============================] - 1s 94ms/step - loss: 0.1084 - accuracy: 0.9617 - val_loss: 0.6855 - val_accuracy: 0.7452\n",
      "Epoch 33/50\n",
      "8/8 [==============================] - 1s 87ms/step - loss: 0.1118 - accuracy: 0.9603 - val_loss: 0.5772 - val_accuracy: 0.7676\n",
      "Epoch 34/50\n",
      "8/8 [==============================] - 1s 92ms/step - loss: 0.1064 - accuracy: 0.9640 - val_loss: 0.6935 - val_accuracy: 0.7468\n",
      "Epoch 35/50\n",
      "8/8 [==============================] - 1s 91ms/step - loss: 0.1101 - accuracy: 0.9594 - val_loss: 0.6254 - val_accuracy: 0.7644\n",
      "Epoch 36/50\n",
      "8/8 [==============================] - 1s 102ms/step - loss: 0.1042 - accuracy: 0.9629 - val_loss: 0.8054 - val_accuracy: 0.7244\n",
      "Epoch 37/50\n",
      "8/8 [==============================] - 1s 98ms/step - loss: 0.1060 - accuracy: 0.9625 - val_loss: 0.5631 - val_accuracy: 0.7772\n",
      "Epoch 38/50\n",
      "8/8 [==============================] - 1s 102ms/step - loss: 0.1076 - accuracy: 0.9600 - val_loss: 0.8904 - val_accuracy: 0.7179\n",
      "Epoch 39/50\n",
      "8/8 [==============================] - 1s 82ms/step - loss: 0.1117 - accuracy: 0.9595 - val_loss: 0.6090 - val_accuracy: 0.7660\n",
      "Epoch 40/50\n",
      "8/8 [==============================] - 1s 86ms/step - loss: 0.0994 - accuracy: 0.9653 - val_loss: 0.7289 - val_accuracy: 0.7468\n",
      "Epoch 41/50\n",
      "8/8 [==============================] - 1s 107ms/step - loss: 0.0935 - accuracy: 0.9694 - val_loss: 0.6916 - val_accuracy: 0.7548\n",
      "Epoch 42/50\n",
      "8/8 [==============================] - 1s 88ms/step - loss: 0.0969 - accuracy: 0.9658 - val_loss: 0.7283 - val_accuracy: 0.7484\n",
      "Epoch 43/50\n",
      "8/8 [==============================] - 1s 118ms/step - loss: 0.0983 - accuracy: 0.9663 - val_loss: 0.5989 - val_accuracy: 0.7740\n",
      "Epoch 44/50\n",
      "8/8 [==============================] - 1s 108ms/step - loss: 0.1075 - accuracy: 0.9573 - val_loss: 0.8340 - val_accuracy: 0.7260\n",
      "Epoch 45/50\n",
      "8/8 [==============================] - 1s 99ms/step - loss: 0.1042 - accuracy: 0.9606 - val_loss: 0.6744 - val_accuracy: 0.7580\n",
      "Epoch 46/50\n",
      "8/8 [==============================] - 1s 94ms/step - loss: 0.1054 - accuracy: 0.9591 - val_loss: 0.7206 - val_accuracy: 0.7548\n",
      "Epoch 47/50\n",
      "8/8 [==============================] - 1s 108ms/step - loss: 0.1001 - accuracy: 0.9630 - val_loss: 0.6625 - val_accuracy: 0.7628\n",
      "Epoch 48/50\n",
      "8/8 [==============================] - 1s 104ms/step - loss: 0.0985 - accuracy: 0.9659 - val_loss: 0.9224 - val_accuracy: 0.7196\n",
      "Epoch 49/50\n",
      "8/8 [==============================] - 1s 105ms/step - loss: 0.0908 - accuracy: 0.9676 - val_loss: 0.7863 - val_accuracy: 0.7436\n",
      "Epoch 50/50\n",
      "8/8 [==============================] - 1s 91ms/step - loss: 0.1059 - accuracy: 0.9605 - val_loss: 0.5991 - val_accuracy: 0.7837\n"
     ]
    }
   ],
   "source": [
    "history = model_one.fit(x_train, y_train, \n",
    "      steps_per_epoch = 8,\n",
    "      epochs=50,            \n",
    "      verbose=1,\n",
    "      validation_data = (x_test, y_test),\n",
    "      validation_steps = 8)\n",
    "\n",
    "# convert the history.history dict to a pandas DataFrame:     \n",
    "hist_one_df = pd.DataFrame(history.history) \n",
    "hist_one_df.to_csv('history_one.csv', index=False)"
   ]
  },
  {
   "cell_type": "code",
   "execution_count": 11,
   "id": "alien-brooklyn",
   "metadata": {},
   "outputs": [
    {
     "name": "stdout",
     "output_type": "stream",
     "text": [
      "dict_keys(['loss', 'accuracy', 'val_loss', 'val_accuracy'])\n"
     ]
    },
    {
     "data": {
      "image/png": "[encoded data removed]",
      "text/plain": [
       "<Figure size 432x288 with 1 Axes>"
      ]
     },
     "metadata": {
      "needs_background": "light"
     },
     "output_type": "display_data"
    },
    {
     "data": {
      "image/png": "[encoded data removed]",
      "text/plain": [
       "<Figure size 432x288 with 1 Axes>"
      ]
     },
     "metadata": {
      "needs_background": "light"
     },
     "output_type": "display_data"
    }
   ],
   "source": [
    "import matplotlib.pyplot as plt\n",
    "\n",
    "print(history.history.keys())\n",
    "plt.plot(history.history['accuracy'])\n",
    "plt.plot(history.history['val_accuracy'])\n",
    "plt.title('model accuracy')\n",
    "plt.ylabel('accuracy')\n",
    "plt.xlabel('epoch')\n",
    "plt.legend(['train', 'test'], loc='upper left')\n",
    "plt.show()\n",
    "# summarize history for loss\n",
    "plt.plot(history.history['loss'])\n",
    "plt.plot(history.history['val_loss'])\n",
    "plt.title('model loss')\n",
    "plt.ylabel('loss')\n",
    "plt.xlabel('epoch')\n",
    "plt.legend(['train', 'test'], loc='upper left')\n",
    "plt.show()"
   ]
  },
  {
   "cell_type": "code",
   "execution_count": 12,
   "id": "accredited-repair",
   "metadata": {},
   "outputs": [
    {
     "name": "stderr",
     "output_type": "stream",
     "text": [
      "/opt/conda/lib/python3.7/site-packages/tensorflow/python/keras/engine/sequential.py:450: UserWarning: `model.predict_classes()` is deprecated and will be removed after 2021-01-01. Please use instead:* `np.argmax(model.predict(x), axis=-1)`,   if your model does multi-class classification   (e.g. if it uses a `softmax` last-layer activation).* `(model.predict(x) > 0.5).astype(\"int32\")`,   if your model does binary classification   (e.g. if it uses a `sigmoid` last-layer activation).\n",
      "  warnings.warn('`model.predict_classes()` is deprecated and '\n"
     ]
    },
    {
     "name": "stdout",
     "output_type": "stream",
     "text": [
      "              precision    recall  f1-score   support\n",
      "\n",
      "           0       0.45      0.94      0.61       113\n",
      "           1       0.98      0.75      0.85       511\n",
      "\n",
      "    accuracy                           0.78       624\n",
      "   macro avg       0.72      0.84      0.73       624\n",
      "weighted avg       0.89      0.78      0.81       624\n",
      "\n",
      "[[106   7]\n",
      " [128 383]]\n"
     ]
    }
   ],
   "source": [
    "# Create a function to evaluate the model\n",
    "from sklearn.metrics import classification_report, confusion_matrix\n",
    "\n",
    "# Print the Evaluation metrics\n",
    "prediction= model_one.predict_classes(x_test)\n",
    "prediction = (model_one.predict(x_test) > 0.5).astype(\"int32\")\n",
    "print(classification_report(prediction, y_test))\n",
    "\n",
    "# Print the confusion matrix values\n",
    "print(confusion_matrix(prediction, y_test))"
   ]
  },
  {
   "cell_type": "markdown",
   "id": "arabic-weight",
   "metadata": {},
   "source": [
    "### Seven-Layer Model"
   ]
  },
  {
   "cell_type": "code",
   "execution_count": 13,
   "id": "sealed-diagram",
   "metadata": {},
   "outputs": [],
   "source": [
    "#load second model\n",
    "\n",
    "model_two = tf.keras.models.Sequential([tf.keras.layers.Conv2D(16, (3,3), activation='relu', input_shape=(128, 128, 1)),\n",
    "                                    tf.keras.layers.Conv2D(32, (3,3), activation='relu'),\n",
    "                                    tf.keras.layers.MaxPooling2D(2,2),\n",
    "                                    tf.keras.layers.Conv2D(64, (3,3), activation='relu'),\n",
    "                                    tf.keras.layers.MaxPooling2D(2,2),\n",
    "                                    tf.keras.layers.Flatten(),\n",
    "                                    tf.keras.layers.Dense(128, activation='relu'),\n",
    "                                    tf.keras.layers.Dense(1, activation='sigmoid')])"
   ]
  },
  {
   "cell_type": "code",
   "execution_count": 14,
   "id": "legislative-logan",
   "metadata": {},
   "outputs": [],
   "source": [
    "model_two.compile(optimizer = tf.optimizers.RMSprop(),\n",
    "              loss = 'binary_crossentropy',\n",
    "              metrics=['accuracy'])"
   ]
  },
  {
   "cell_type": "code",
   "execution_count": 15,
   "id": "seven-exhibition",
   "metadata": {},
   "outputs": [
    {
     "name": "stdout",
     "output_type": "stream",
     "text": [
      "Epoch 1/50\n",
      "27/27 [==============================] - 22s 778ms/step - loss: 2.1275 - accuracy: 0.6967 - val_loss: 1.2709 - val_accuracy: 0.6282\n",
      "Epoch 2/50\n",
      "27/27 [==============================] - 21s 773ms/step - loss: 0.2848 - accuracy: 0.8928 - val_loss: 1.3096 - val_accuracy: 0.7115\n",
      "Epoch 3/50\n",
      "27/27 [==============================] - 21s 784ms/step - loss: 0.2082 - accuracy: 0.9233 - val_loss: 1.3630 - val_accuracy: 0.6522\n",
      "Epoch 4/50\n",
      "27/27 [==============================] - 21s 765ms/step - loss: 0.1858 - accuracy: 0.9298 - val_loss: 1.1058 - val_accuracy: 0.7388\n",
      "Epoch 5/50\n",
      "27/27 [==============================] - 21s 763ms/step - loss: 0.1343 - accuracy: 0.9508 - val_loss: 0.8290 - val_accuracy: 0.7821\n",
      "Epoch 6/50\n",
      "27/27 [==============================] - 20s 753ms/step - loss: 0.0871 - accuracy: 0.9663 - val_loss: 1.3648 - val_accuracy: 0.7260\n",
      "Epoch 7/50\n",
      "27/27 [==============================] - 20s 727ms/step - loss: 0.1134 - accuracy: 0.9582 - val_loss: 1.4045 - val_accuracy: 0.7420\n",
      "Epoch 8/50\n",
      "27/27 [==============================] - 20s 758ms/step - loss: 0.1719 - accuracy: 0.9564 - val_loss: 1.8591 - val_accuracy: 0.7019\n",
      "Epoch 9/50\n",
      "27/27 [==============================] - 20s 743ms/step - loss: 0.0765 - accuracy: 0.9705 - val_loss: 2.4998 - val_accuracy: 0.6939\n",
      "Epoch 10/50\n",
      "27/27 [==============================] - 21s 757ms/step - loss: 0.0973 - accuracy: 0.9630 - val_loss: 1.2414 - val_accuracy: 0.7628\n",
      "Epoch 11/50\n",
      "27/27 [==============================] - 20s 750ms/step - loss: 0.0602 - accuracy: 0.9762 - val_loss: 1.7862 - val_accuracy: 0.7292\n",
      "Epoch 12/50\n",
      "27/27 [==============================] - 20s 740ms/step - loss: 0.0732 - accuracy: 0.9754 - val_loss: 1.7966 - val_accuracy: 0.7163\n",
      "Epoch 13/50\n",
      "27/27 [==============================] - 21s 764ms/step - loss: 0.0371 - accuracy: 0.9880 - val_loss: 0.9181 - val_accuracy: 0.7933\n",
      "Epoch 14/50\n",
      "27/27 [==============================] - 21s 783ms/step - loss: 0.0473 - accuracy: 0.9804 - val_loss: 1.4427 - val_accuracy: 0.7420\n",
      "Epoch 15/50\n",
      "27/27 [==============================] - 20s 733ms/step - loss: 0.0173 - accuracy: 0.9941 - val_loss: 1.4385 - val_accuracy: 0.7837\n",
      "Epoch 16/50\n",
      "27/27 [==============================] - 20s 734ms/step - loss: 0.0400 - accuracy: 0.9848 - val_loss: 1.9478 - val_accuracy: 0.7740\n",
      "Epoch 17/50\n",
      "27/27 [==============================] - 20s 746ms/step - loss: 0.0271 - accuracy: 0.9883 - val_loss: 1.9925 - val_accuracy: 0.7196\n",
      "Epoch 18/50\n",
      "27/27 [==============================] - 20s 737ms/step - loss: 0.0095 - accuracy: 0.9987 - val_loss: 4.5892 - val_accuracy: 0.6811\n",
      "Epoch 19/50\n",
      "27/27 [==============================] - 21s 768ms/step - loss: 0.0265 - accuracy: 0.9907 - val_loss: 2.1448 - val_accuracy: 0.7420\n",
      "Epoch 20/50\n",
      "27/27 [==============================] - 21s 762ms/step - loss: 0.0035 - accuracy: 0.9996 - val_loss: 2.9729 - val_accuracy: 0.7260\n",
      "Epoch 21/50\n",
      "27/27 [==============================] - 20s 734ms/step - loss: 0.0296 - accuracy: 0.9900 - val_loss: 3.4197 - val_accuracy: 0.7308\n",
      "Epoch 22/50\n",
      "27/27 [==============================] - 21s 760ms/step - loss: 0.0088 - accuracy: 0.9979 - val_loss: 3.0560 - val_accuracy: 0.7212\n",
      "Epoch 23/50\n",
      "27/27 [==============================] - 21s 780ms/step - loss: 0.0027 - accuracy: 0.9998 - val_loss: 3.7869 - val_accuracy: 0.7276\n",
      "Epoch 24/50\n",
      "27/27 [==============================] - 20s 754ms/step - loss: 0.0043 - accuracy: 0.9993 - val_loss: 1.5753 - val_accuracy: 0.7628\n",
      "Epoch 25/50\n",
      "27/27 [==============================] - 20s 748ms/step - loss: 0.0203 - accuracy: 0.9933 - val_loss: 2.5548 - val_accuracy: 0.7516\n",
      "Epoch 26/50\n",
      "27/27 [==============================] - 20s 742ms/step - loss: 0.0013 - accuracy: 1.0000 - val_loss: 3.7546 - val_accuracy: 0.7276\n",
      "Epoch 27/50\n",
      "27/27 [==============================] - 20s 747ms/step - loss: 2.8471e-04 - accuracy: 1.0000 - val_loss: 5.6981 - val_accuracy: 0.7083\n",
      "Epoch 28/50\n",
      "27/27 [==============================] - 20s 756ms/step - loss: 0.0708 - accuracy: 0.9804 - val_loss: 3.6058 - val_accuracy: 0.7196\n",
      "Epoch 29/50\n",
      "27/27 [==============================] - 20s 731ms/step - loss: 5.2836e-04 - accuracy: 1.0000 - val_loss: 3.9935 - val_accuracy: 0.7404\n",
      "Epoch 30/50\n",
      "27/27 [==============================] - 20s 742ms/step - loss: 0.0074 - accuracy: 0.9983 - val_loss: 2.1905 - val_accuracy: 0.7788\n",
      "Epoch 31/50\n",
      "27/27 [==============================] - 20s 753ms/step - loss: 0.0017 - accuracy: 1.0000 - val_loss: 3.7108 - val_accuracy: 0.7420\n",
      "Epoch 32/50\n",
      "27/27 [==============================] - 20s 749ms/step - loss: 1.4817e-04 - accuracy: 1.0000 - val_loss: 3.9173 - val_accuracy: 0.7500\n",
      "Epoch 33/50\n",
      "27/27 [==============================] - 21s 758ms/step - loss: 0.3320 - accuracy: 0.9950 - val_loss: 2.8300 - val_accuracy: 0.7324\n",
      "Epoch 34/50\n",
      "27/27 [==============================] - 20s 730ms/step - loss: 0.0163 - accuracy: 0.9937 - val_loss: 3.2595 - val_accuracy: 0.7388\n",
      "Epoch 35/50\n",
      "27/27 [==============================] - 21s 757ms/step - loss: 0.0024 - accuracy: 1.0000 - val_loss: 1.5028 - val_accuracy: 0.8397\n",
      "Epoch 36/50\n",
      "27/27 [==============================] - 20s 743ms/step - loss: 0.0295 - accuracy: 0.9898 - val_loss: 3.8585 - val_accuracy: 0.7436\n",
      "Epoch 37/50\n",
      "27/27 [==============================] - 21s 766ms/step - loss: 1.0410e-04 - accuracy: 1.0000 - val_loss: 5.0498 - val_accuracy: 0.7260\n",
      "Epoch 38/50\n",
      "27/27 [==============================] - 20s 734ms/step - loss: 3.4200e-05 - accuracy: 1.0000 - val_loss: 5.1288 - val_accuracy: 0.7308\n",
      "Epoch 39/50\n",
      "27/27 [==============================] - 20s 750ms/step - loss: 0.0077 - accuracy: 0.9989 - val_loss: 3.3381 - val_accuracy: 0.7436\n",
      "Epoch 40/50\n",
      "27/27 [==============================] - 21s 759ms/step - loss: 0.0034 - accuracy: 0.9989 - val_loss: 2.4380 - val_accuracy: 0.7933\n",
      "Epoch 41/50\n",
      "27/27 [==============================] - 20s 744ms/step - loss: 0.0144 - accuracy: 0.9949 - val_loss: 4.2333 - val_accuracy: 0.7308\n",
      "Epoch 42/50\n",
      "27/27 [==============================] - 20s 730ms/step - loss: 1.4307e-04 - accuracy: 1.0000 - val_loss: 4.7796 - val_accuracy: 0.7324\n",
      "Epoch 43/50\n",
      "27/27 [==============================] - 20s 752ms/step - loss: 3.0622e-05 - accuracy: 1.0000 - val_loss: 5.4858 - val_accuracy: 0.7308\n",
      "Epoch 44/50\n",
      "27/27 [==============================] - 21s 756ms/step - loss: 0.0184 - accuracy: 0.9984 - val_loss: 3.8364 - val_accuracy: 0.7260\n",
      "Epoch 45/50\n",
      "27/27 [==============================] - 20s 750ms/step - loss: 0.0024 - accuracy: 0.9997 - val_loss: 4.4918 - val_accuracy: 0.7276\n",
      "Epoch 46/50\n",
      "27/27 [==============================] - 20s 749ms/step - loss: 2.4163e-04 - accuracy: 1.0000 - val_loss: 4.5356 - val_accuracy: 0.7388\n",
      "Epoch 47/50\n",
      "27/27 [==============================] - 20s 751ms/step - loss: 5.3554e-05 - accuracy: 1.0000 - val_loss: 4.8839 - val_accuracy: 0.7388\n",
      "Epoch 48/50\n",
      "27/27 [==============================] - 20s 762ms/step - loss: 1.2942e-05 - accuracy: 1.0000 - val_loss: 5.7043 - val_accuracy: 0.7324\n",
      "Epoch 49/50\n",
      "27/27 [==============================] - 21s 761ms/step - loss: 4.0508e-06 - accuracy: 1.0000 - val_loss: 6.0575 - val_accuracy: 0.7372\n",
      "Epoch 50/50\n",
      "27/27 [==============================] - 20s 740ms/step - loss: 1.2343e-06 - accuracy: 1.0000 - val_loss: 6.5210 - val_accuracy: 0.7340\n"
     ]
    }
   ],
   "source": [
    "history = model_two.fit(x_train, y_train, \n",
    "      batch_size = 200,\n",
    "      epochs=50,            \n",
    "      verbose=1,\n",
    "      validation_data = (x_test, y_test))\n",
    "\n",
    "# convert the history.history dict to a pandas DataFrame:     \n",
    "hist_two_df = pd.DataFrame(history.history) \n",
    "hist_two_df.to_csv('history_two.csv', index=False)"
   ]
  },
  {
   "cell_type": "code",
   "execution_count": 16,
   "id": "prescription-block",
   "metadata": {},
   "outputs": [
    {
     "name": "stdout",
     "output_type": "stream",
     "text": [
      "dict_keys(['loss', 'accuracy', 'val_loss', 'val_accuracy'])\n"
     ]
    },
    {
     "data": {
      "image/png": "[encoded data removed]",
      "text/plain": [
       "<Figure size 432x288 with 1 Axes>"
      ]
     },
     "metadata": {
      "needs_background": "light"
     },
     "output_type": "display_data"
    },
    {
     "data": {
      "image/png": "[encoded data removed]",
      "text/plain": [
       "<Figure size 432x288 with 1 Axes>"
      ]
     },
     "metadata": {
      "needs_background": "light"
     },
     "output_type": "display_data"
    }
   ],
   "source": [
    "print(history.history.keys())\n",
    "plt.plot(history.history['accuracy'])\n",
    "plt.plot(history.history['val_accuracy'])\n",
    "plt.title('model accuracy')\n",
    "plt.ylabel('accuracy')\n",
    "plt.xlabel('epoch')\n",
    "plt.legend(['train', 'test'], loc='upper left')\n",
    "plt.show()\n",
    "# summarize history for loss\n",
    "plt.plot(history.history['loss'])\n",
    "plt.plot(history.history['val_loss'])\n",
    "plt.title('model loss')\n",
    "plt.ylabel('loss')\n",
    "plt.xlabel('epoch')\n",
    "plt.legend(['train', 'test'], loc='upper left')\n",
    "plt.show()"
   ]
  },
  {
   "cell_type": "code",
   "execution_count": 17,
   "id": "offshore-exhaust",
   "metadata": {},
   "outputs": [
    {
     "name": "stderr",
     "output_type": "stream",
     "text": [
      "/opt/conda/lib/python3.7/site-packages/tensorflow/python/keras/engine/sequential.py:450: UserWarning: `model.predict_classes()` is deprecated and will be removed after 2021-01-01. Please use instead:* `np.argmax(model.predict(x), axis=-1)`,   if your model does multi-class classification   (e.g. if it uses a `softmax` last-layer activation).* `(model.predict(x) > 0.5).astype(\"int32\")`,   if your model does binary classification   (e.g. if it uses a `sigmoid` last-layer activation).\n",
      "  warnings.warn('`model.predict_classes()` is deprecated and '\n"
     ]
    },
    {
     "name": "stdout",
     "output_type": "stream",
     "text": [
      "              precision    recall  f1-score   support\n",
      "\n",
      "           0       0.31      0.95      0.46        76\n",
      "           1       0.99      0.70      0.82       548\n",
      "\n",
      "    accuracy                           0.73       624\n",
      "   macro avg       0.65      0.83      0.64       624\n",
      "weighted avg       0.91      0.73      0.78       624\n",
      "\n",
      "[[ 72   4]\n",
      " [162 386]]\n"
     ]
    }
   ],
   "source": [
    "# Print the Evaluation metrics\n",
    "prediction= model_two.predict_classes(x_test)\n",
    "prediction = (model_two.predict(x_test) > 0.5).astype(\"int32\")\n",
    "print(classification_report(prediction, y_test))\n",
    "\n",
    "# Print the confusion matrix values\n",
    "print(confusion_matrix(prediction, y_test))"
   ]
  },
  {
   "cell_type": "markdown",
   "id": "broken-cloud",
   "metadata": {},
   "source": [
    "### Fourteen-Layer Model"
   ]
  },
  {
   "cell_type": "code",
   "execution_count": 18,
   "id": "warming-envelope",
   "metadata": {},
   "outputs": [],
   "source": [
    "#loading our best performing model\n",
    "\n",
    "# Source: https://towardsdatascience.com/using-ai-to-detect-pneumonia-3ec4601acd07\n",
    "from keras import regularizers\n",
    "from tensorflow.keras.models import Sequential\n",
    "from tensorflow.keras.layers import MaxPooling2D\n",
    "from tensorflow.keras.layers import (Dense,Conv2D,MaxPool2D,Flatten,Dropout,BatchNormalization)\n",
    "\n",
    "def get_conv_model_normal():\n",
    "    \n",
    "    inp_shape = (128,128,1)\n",
    "    act = 'relu'\n",
    "    drop = .5 \n",
    "    kernal_reg = regularizers.l1(.001)\n",
    "    dil_rate = 2\n",
    "    \n",
    "    model = Sequential() \n",
    "    \n",
    "    model.add(Conv2D(64, kernel_size=(3,3),activation=act, input_shape = inp_shape, \n",
    "                     kernel_regularizer = kernal_reg,\n",
    "                     kernel_initializer = 'he_uniform',  padding = 'same', name = 'Input_Layer'))\n",
    "    model.add(Dense(64, activation = 'relu'))\n",
    "    model.add(MaxPooling2D(pool_size=(2, 2),  strides = (2,2)))\n",
    "    \n",
    "    model.add(Conv2D(64, (3, 3), activation=act, kernel_regularizer = kernal_reg, dilation_rate = dil_rate, \n",
    "                     kernel_initializer = 'he_uniform',padding = 'same'))\n",
    "    model.add(Dense(64, activation = 'relu'))\n",
    "    model.add(MaxPooling2D(pool_size=(2, 2), strides = (2,2)))\n",
    "    \n",
    "    model.add(Conv2D(128, (3, 3), activation=act, kernel_regularizer = kernal_reg, dilation_rate = dil_rate, \n",
    "                     kernel_initializer = 'he_uniform',padding = 'same'))\n",
    "    model.add(Conv2D(128, (3, 3), activation=act, kernel_regularizer = kernal_reg, dilation_rate = dil_rate, \n",
    "                     kernel_initializer = 'he_uniform',padding = 'same'))\n",
    "    model.add(MaxPooling2D(pool_size=(2, 2), strides = (2,2)))\n",
    "\n",
    "    model.add(Flatten())\n",
    "\n",
    "    model.add(Dense(128, activation='relu'))\n",
    "    model.add(Dense(64, activation='relu'))\n",
    "    model.add(Dense(32, activation='relu'))\n",
    "\n",
    "    model.add(Dropout(drop))\n",
    "\n",
    "    model.add(Dense(1, activation='sigmoid', name = 'Output_Layer'))\n",
    "    \n",
    "    model.compile(loss = 'binary_crossentropy', optimizer = 'adam', metrics = ['accuracy'])\n",
    "    return model "
   ]
  },
  {
   "cell_type": "code",
   "execution_count": 19,
   "id": "pacific-healing",
   "metadata": {},
   "outputs": [
    {
     "name": "stdout",
     "output_type": "stream",
     "text": [
      "Epoch 1/50\n",
      "163/163 [==============================] - 137s 832ms/step - loss: 6.9278 - accuracy: 0.7040 - val_loss: 1.4367 - val_accuracy: 0.6250\n",
      "Epoch 2/50\n",
      "163/163 [==============================] - 133s 814ms/step - loss: 1.1751 - accuracy: 0.7375 - val_loss: 1.0070 - val_accuracy: 0.6250\n",
      "Epoch 3/50\n",
      "163/163 [==============================] - 134s 819ms/step - loss: 0.8516 - accuracy: 0.7409 - val_loss: 0.8846 - val_accuracy: 0.6250\n",
      "Epoch 4/50\n",
      "163/163 [==============================] - 131s 802ms/step - loss: 0.7232 - accuracy: 0.7577 - val_loss: 0.7903 - val_accuracy: 0.6314\n",
      "Epoch 5/50\n",
      "163/163 [==============================] - 133s 817ms/step - loss: 0.6804 - accuracy: 0.7914 - val_loss: 0.7080 - val_accuracy: 0.8365\n",
      "Epoch 6/50\n",
      "163/163 [==============================] - 133s 817ms/step - loss: 0.7552 - accuracy: 0.8357 - val_loss: 0.8672 - val_accuracy: 0.7356\n",
      "Epoch 7/50\n",
      "163/163 [==============================] - 133s 815ms/step - loss: 0.7091 - accuracy: 0.8416 - val_loss: 0.7594 - val_accuracy: 0.7821\n",
      "Epoch 8/50\n",
      "163/163 [==============================] - 133s 815ms/step - loss: 0.6114 - accuracy: 0.8418 - val_loss: 0.6750 - val_accuracy: 0.7901\n",
      "Epoch 9/50\n",
      "163/163 [==============================] - 134s 822ms/step - loss: 0.6196 - accuracy: 0.8484 - val_loss: 0.6554 - val_accuracy: 0.8365\n",
      "Epoch 10/50\n",
      "163/163 [==============================] - 133s 813ms/step - loss: 0.6082 - accuracy: 0.8461 - val_loss: 0.7273 - val_accuracy: 0.7756\n",
      "Epoch 11/50\n",
      "163/163 [==============================] - 135s 826ms/step - loss: 0.5512 - accuracy: 0.8665 - val_loss: 0.6275 - val_accuracy: 0.8510\n",
      "Epoch 12/50\n",
      "163/163 [==============================] - 134s 823ms/step - loss: 0.5286 - accuracy: 0.8780 - val_loss: 0.7208 - val_accuracy: 0.8478\n",
      "Epoch 13/50\n",
      "163/163 [==============================] - 133s 814ms/step - loss: 0.6234 - accuracy: 0.8756 - val_loss: 0.7373 - val_accuracy: 0.8317\n",
      "Epoch 14/50\n",
      "163/163 [==============================] - 133s 818ms/step - loss: 0.6019 - accuracy: 0.8830 - val_loss: 0.6338 - val_accuracy: 0.8670\n",
      "Epoch 15/50\n",
      "163/163 [==============================] - 132s 809ms/step - loss: 0.5637 - accuracy: 0.8824 - val_loss: 0.6753 - val_accuracy: 0.8574\n",
      "Epoch 16/50\n",
      "163/163 [==============================] - 134s 825ms/step - loss: 0.5848 - accuracy: 0.8942 - val_loss: 0.7418 - val_accuracy: 0.8285\n",
      "Epoch 17/50\n",
      "163/163 [==============================] - 133s 813ms/step - loss: 0.6062 - accuracy: 0.8884 - val_loss: 0.6940 - val_accuracy: 0.8510\n",
      "Epoch 18/50\n",
      "163/163 [==============================] - 134s 819ms/step - loss: 0.5995 - accuracy: 0.8842 - val_loss: 0.7421 - val_accuracy: 0.8478\n",
      "Epoch 19/50\n",
      "163/163 [==============================] - 132s 811ms/step - loss: 0.5896 - accuracy: 0.8935 - val_loss: 0.9292 - val_accuracy: 0.7564\n",
      "Epoch 20/50\n",
      "163/163 [==============================] - 135s 826ms/step - loss: 0.6103 - accuracy: 0.8830 - val_loss: 0.7373 - val_accuracy: 0.8510\n",
      "Epoch 21/50\n",
      "163/163 [==============================] - 133s 815ms/step - loss: 0.6165 - accuracy: 0.8889 - val_loss: 0.7347 - val_accuracy: 0.8446\n",
      "Epoch 22/50\n",
      "163/163 [==============================] - 134s 822ms/step - loss: 0.6268 - accuracy: 0.8999 - val_loss: 0.8743 - val_accuracy: 0.8141\n",
      "Epoch 23/50\n",
      "163/163 [==============================] - 135s 826ms/step - loss: 0.6394 - accuracy: 0.8999 - val_loss: 0.8047 - val_accuracy: 0.8526\n",
      "Epoch 24/50\n",
      "163/163 [==============================] - 132s 811ms/step - loss: 0.6114 - accuracy: 0.8988 - val_loss: 0.6324 - val_accuracy: 0.8766\n",
      "Epoch 25/50\n",
      "163/163 [==============================] - 132s 811ms/step - loss: 0.5609 - accuracy: 0.9091 - val_loss: 0.7407 - val_accuracy: 0.8558\n",
      "Epoch 26/50\n",
      "163/163 [==============================] - 134s 820ms/step - loss: 0.5741 - accuracy: 0.8993 - val_loss: 0.7949 - val_accuracy: 0.8638\n",
      "Epoch 27/50\n",
      "163/163 [==============================] - 136s 831ms/step - loss: 0.5533 - accuracy: 0.9098 - val_loss: 0.6384 - val_accuracy: 0.8798\n",
      "Epoch 28/50\n",
      "163/163 [==============================] - 134s 823ms/step - loss: 0.5422 - accuracy: 0.9008 - val_loss: 0.6916 - val_accuracy: 0.8381\n",
      "Epoch 29/50\n",
      "163/163 [==============================] - 132s 807ms/step - loss: 0.5118 - accuracy: 0.9041 - val_loss: 0.8591 - val_accuracy: 0.7821\n",
      "Epoch 30/50\n",
      "163/163 [==============================] - 134s 824ms/step - loss: 0.5043 - accuracy: 0.9056 - val_loss: 0.5685 - val_accuracy: 0.8926\n",
      "Epoch 31/50\n",
      "163/163 [==============================] - 133s 817ms/step - loss: 0.5036 - accuracy: 0.9095 - val_loss: 0.5688 - val_accuracy: 0.8670\n",
      "Epoch 32/50\n",
      "163/163 [==============================] - 133s 818ms/step - loss: 0.4849 - accuracy: 0.8973 - val_loss: 0.6093 - val_accuracy: 0.8590\n",
      "Epoch 33/50\n",
      "163/163 [==============================] - 133s 816ms/step - loss: 0.4656 - accuracy: 0.9115 - val_loss: 0.5173 - val_accuracy: 0.8782\n",
      "Epoch 34/50\n",
      "163/163 [==============================] - 134s 823ms/step - loss: 0.4793 - accuracy: 0.9046 - val_loss: 0.7655 - val_accuracy: 0.8077\n",
      "Epoch 35/50\n",
      "163/163 [==============================] - 133s 817ms/step - loss: 0.5042 - accuracy: 0.9020 - val_loss: 0.5727 - val_accuracy: 0.8926\n",
      "Epoch 36/50\n",
      "163/163 [==============================] - 131s 803ms/step - loss: 0.5437 - accuracy: 0.9055 - val_loss: 0.7769 - val_accuracy: 0.8365\n",
      "Epoch 37/50\n",
      "163/163 [==============================] - 132s 811ms/step - loss: 0.5890 - accuracy: 0.9056 - val_loss: 0.8533 - val_accuracy: 0.8253\n",
      "Epoch 38/50\n",
      "163/163 [==============================] - 134s 820ms/step - loss: 0.5558 - accuracy: 0.9078 - val_loss: 0.7014 - val_accuracy: 0.8830\n",
      "Epoch 39/50\n",
      "163/163 [==============================] - 131s 800ms/step - loss: 0.5745 - accuracy: 0.9064 - val_loss: 0.6358 - val_accuracy: 0.8862\n",
      "Epoch 40/50\n",
      "163/163 [==============================] - 134s 820ms/step - loss: 0.5893 - accuracy: 0.9100 - val_loss: 0.7005 - val_accuracy: 0.8766\n",
      "Epoch 41/50\n",
      "163/163 [==============================] - 134s 823ms/step - loss: 0.5613 - accuracy: 0.9150 - val_loss: 0.6170 - val_accuracy: 0.9038\n",
      "Epoch 42/50\n",
      "163/163 [==============================] - 131s 803ms/step - loss: 0.5377 - accuracy: 0.9155 - val_loss: 0.6388 - val_accuracy: 0.8814\n",
      "Epoch 43/50\n",
      "163/163 [==============================] - 133s 817ms/step - loss: 0.5292 - accuracy: 0.9142 - val_loss: 0.5976 - val_accuracy: 0.8974\n",
      "Epoch 44/50\n",
      "163/163 [==============================] - 131s 806ms/step - loss: 0.4998 - accuracy: 0.9170 - val_loss: 0.5980 - val_accuracy: 0.9022\n",
      "Epoch 45/50\n",
      "163/163 [==============================] - 133s 817ms/step - loss: 0.4924 - accuracy: 0.9212 - val_loss: 0.5721 - val_accuracy: 0.8958\n",
      "Epoch 46/50\n",
      "163/163 [==============================] - 131s 803ms/step - loss: 0.5040 - accuracy: 0.9195 - val_loss: 0.5767 - val_accuracy: 0.8942\n",
      "Epoch 47/50\n",
      "163/163 [==============================] - 133s 815ms/step - loss: 0.5029 - accuracy: 0.9098 - val_loss: 0.5538 - val_accuracy: 0.8974\n",
      "Epoch 48/50\n",
      "163/163 [==============================] - 130s 800ms/step - loss: 0.5096 - accuracy: 0.9147 - val_loss: 0.5971 - val_accuracy: 0.8910\n",
      "Epoch 49/50\n",
      "163/163 [==============================] - 133s 818ms/step - loss: 0.5127 - accuracy: 0.9044 - val_loss: 0.6383 - val_accuracy: 0.8718\n",
      "Epoch 50/50\n",
      "163/163 [==============================] - 133s 818ms/step - loss: 0.4966 - accuracy: 0.9090 - val_loss: 0.5825 - val_accuracy: 0.8910\n"
     ]
    }
   ],
   "source": [
    "# Display the loss vs epochs and accuracy vs epochs graphs\n",
    "model_three = get_conv_model_normal()\n",
    "history = model_three.fit(datagen.flow(x_train,y_train, batch_size = 32),\n",
    "                    epochs=50, verbose=1, validation_data = (x_test, y_test))\n",
    "\n",
    "# convert the history.history dict to a pandas DataFrame:     \n",
    "hist_three_df = pd.DataFrame(history.history) \n",
    "hist_three_df.to_csv('history_three.csv', index=False)"
   ]
  },
  {
   "cell_type": "code",
   "execution_count": 20,
   "id": "israeli-tracker",
   "metadata": {},
   "outputs": [
    {
     "name": "stdout",
     "output_type": "stream",
     "text": [
      "dict_keys(['loss', 'accuracy', 'val_loss', 'val_accuracy'])\n"
     ]
    },
    {
     "data": {
      "image/png": "[encoded data removed]",
      "text/plain": [
       "<Figure size 432x288 with 1 Axes>"
      ]
     },
     "metadata": {
      "needs_background": "light"
     },
     "output_type": "display_data"
    },
    {
     "data": {
      "image/png": "[encoded data removed]",
      "text/plain": [
       "<Figure size 432x288 with 1 Axes>"
      ]
     },
     "metadata": {
      "needs_background": "light"
     },
     "output_type": "display_data"
    }
   ],
   "source": [
    "print(history.history.keys())\n",
    "plt.plot(history.history['accuracy'])\n",
    "plt.plot(history.history['val_accuracy'])\n",
    "plt.title('model accuracy')\n",
    "plt.ylabel('accuracy')\n",
    "plt.xlabel('epoch')\n",
    "plt.legend(['train', 'test'], loc='upper left')\n",
    "plt.show()\n",
    "# summarize history for loss\n",
    "plt.plot(history.history['loss'])\n",
    "plt.plot(history.history['val_loss'])\n",
    "plt.title('model loss')\n",
    "plt.ylabel('loss')\n",
    "plt.xlabel('epoch')\n",
    "plt.legend(['train', 'test'], loc='upper left')\n",
    "plt.show()"
   ]
  },
  {
   "cell_type": "code",
   "execution_count": 21,
   "id": "selected-restriction",
   "metadata": {},
   "outputs": [
    {
     "name": "stderr",
     "output_type": "stream",
     "text": [
      "/opt/conda/lib/python3.7/site-packages/tensorflow/python/keras/engine/sequential.py:450: UserWarning: `model.predict_classes()` is deprecated and will be removed after 2021-01-01. Please use instead:* `np.argmax(model.predict(x), axis=-1)`,   if your model does multi-class classification   (e.g. if it uses a `softmax` last-layer activation).* `(model.predict(x) > 0.5).astype(\"int32\")`,   if your model does binary classification   (e.g. if it uses a `sigmoid` last-layer activation).\n",
      "  warnings.warn('`model.predict_classes()` is deprecated and '\n"
     ]
    },
    {
     "name": "stdout",
     "output_type": "stream",
     "text": [
      "              precision    recall  f1-score   support\n",
      "\n",
      "           0       0.78      0.92      0.84       200\n",
      "           1       0.96      0.88      0.92       424\n",
      "\n",
      "    accuracy                           0.89       624\n",
      "   macro avg       0.87      0.90      0.88       624\n",
      "weighted avg       0.90      0.89      0.89       624\n",
      "\n",
      "[[183  17]\n",
      " [ 51 373]]\n"
     ]
    }
   ],
   "source": [
    "# Print the Evaluation metrics\n",
    "prediction= model_three.predict_classes(x_test)\n",
    "prediction = (model_three.predict(x_test) > 0.5).astype(\"int32\")\n",
    "print(classification_report(prediction, y_test))\n",
    "\n",
    "# Print the confusion matrix values\n",
    "print(confusion_matrix(prediction, y_test))"
   ]
  }
 ],
 "metadata": {
  "kernelspec": {
   "display_name": "Python 3",
   "language": "python",
   "name": "python3"
  },
  "language_info": {
   "codemirror_mode": {
    "name": "ipython",
    "version": 3
   },
   "file_extension": ".py",
   "mimetype": "text/x-python",
   "name": "python",
   "nbconvert_exporter": "python",
   "pygments_lexer": "ipython3",
   "version": "3.7.9"
  }
 },
 "nbformat": 4,
 "nbformat_minor": 5
}
